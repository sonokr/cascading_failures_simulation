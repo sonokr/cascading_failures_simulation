{
 "cells": [
  {
   "cell_type": "code",
   "execution_count": null,
   "metadata": {},
   "outputs": [],
   "source": []
  }
 ],
 "metadata": {
  "kernelspec": {
   "display_name": "Python 3.10.6 ('gt')",
   "language": "python",
   "name": "python3"
  },
  "language_info": {
   "name": "python",
   "version": "3.10.6"
  },
  "vscode": {
   "interpreter": {
    "hash": "4475fada135dc3f5d1b476e73f6f0b7b2d063ba1329875a7a560ee047bb72169"
   }
  }
 },
 "nbformat": 4,
 "nbformat_minor": 5
}
