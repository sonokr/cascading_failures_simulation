{
 "cells": [
  {
   "cell_type": "code",
   "execution_count": 6,
   "metadata": {},
   "outputs": [
    {
     "name": "stdout",
     "output_type": "stream",
     "text": [
      "n=100\tm=2\tb=1\tconfig=False\n"
     ]
    }
   ],
   "source": [
    "import multiprocessing\n",
    "from multiprocessing import Pool\n",
    "from itertools import product\n",
    "\n",
    "import networkx as nx\n",
    "import graph_tool as gt\n",
    "\n",
    "from lib.utilities import graph_from_netfile_gt\n",
    "\n",
    "\n",
    "i = 0\n",
    "n = 100\n",
    "m = 2\n",
    "b = 1\n",
    "config = False\n",
    "\n",
    "if config:\n",
    "    network_file_path = f\"./data/network/net_n{n}_m{m}_b{b}/link{i}.net\"\n",
    "    result_file_path = f\"./data/result/bc_n{n}_m{m}_b{b}.csv\"\n",
    "else:\n",
    "    network_file_path = f\"./data/network/net_n{n}_m{m}_b{b}_no_config/link{i}.net\"\n",
    "    result_file_path = f\"./data/result/bc_n{n}_m{m}_b{b}_no_config.csv\"\n",
    "\n",
    "print(f\"n={n}\\tm={m}\\tb={b}\\tconfig={config}\")\n",
    "\n",
    "G = graph_from_netfile_gt(network_file_path)\n",
    "bc = gt.centrality.betweenness(G)\n",
    "with open(result_file_path, \"w\") as f:\n",
    "    for bc_ in bc[1]:  # Edge betweenness\n",
    "        f.write(f\"{bc_}\\n\")"
   ]
  },
  {
   "cell_type": "code",
   "execution_count": null,
   "metadata": {},
   "outputs": [],
   "source": []
  }
 ],
 "metadata": {
  "kernelspec": {
   "display_name": "Python 3.10.6 ('gt')",
   "language": "python",
   "name": "python3"
  },
  "language_info": {
   "codemirror_mode": {
    "name": "ipython",
    "version": 3
   },
   "file_extension": ".py",
   "mimetype": "text/x-python",
   "name": "python",
   "nbconvert_exporter": "python",
   "pygments_lexer": "ipython3",
   "version": "3.10.6"
  },
  "orig_nbformat": 4,
  "vscode": {
   "interpreter": {
    "hash": "4475fada135dc3f5d1b476e73f6f0b7b2d063ba1329875a7a560ee047bb72169"
   }
  }
 },
 "nbformat": 4,
 "nbformat_minor": 2
}
